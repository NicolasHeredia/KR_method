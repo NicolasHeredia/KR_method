{
 "cells": [
  {
   "cell_type": "code",
   "execution_count": 29,
   "metadata": {},
   "outputs": [],
   "source": [
    "import numpy as np\n",
    "from functions.flash_fede import flash_gamma_gamma"
   ]
  },
  {
   "cell_type": "code",
   "execution_count": 30,
   "metadata": {},
   "outputs": [
    {
     "data": {
      "text/plain": [
       "13836.672132316246"
      ]
     },
     "execution_count": 30,
     "metadata": {},
     "output_type": "execute_result"
    }
   ],
   "source": [
    "582_261 /42.081"
   ]
  },
  {
   "cell_type": "code",
   "execution_count": 31,
   "metadata": {},
   "outputs": [],
   "source": [
    "# parametros\n",
    "\n",
    "m = np.array([1.0, 13_836.0])\n",
    "chi = np.array([[0.53, 0.0], [0.0, 0.53]])\n",
    "pms = np.array([106.16, 582_261.0]) # xylene MW and polypropylene\n",
    "\n",
    "params = [m, chi, pms]"
   ]
  },
  {
   "cell_type": "code",
   "execution_count": 46,
   "metadata": {},
   "outputs": [],
   "source": [
    "z = np.array([0.97738, 1.0-0.97738])\n",
    "k0 = np.array([1.0-3.98e-02, 3.98]) / np.array([3.98, 1.0-3.98e-02])\n",
    "T = 298.16"
   ]
  },
  {
   "cell_type": "code",
   "execution_count": 47,
   "metadata": {},
   "outputs": [],
   "source": [
    "k0 = np.array([0.2, 0.1])"
   ]
  },
  {
   "cell_type": "code",
   "execution_count": 49,
   "metadata": {},
   "outputs": [
    {
     "name": "stderr",
     "output_type": "stream",
     "text": [
      "/home/nico/.virtualenvs/pgf_lib/lib/python3.10/site-packages/polykin/thermo/acm/floryhuggins.py:315: RuntimeWarning: overflow encountered in exp\n",
      "  return phi*exp(1 - m*(A - B + C))\n",
      "/home/nico/Escritorio/Archivos_NH/KR_code/functions/flash_fede.py:20: RuntimeWarning: invalid value encountered in subtract\n",
      "  lnK = ln_g_y - ln_g_x\n",
      "/home/nico/.virtualenvs/pgf_lib/lib/python3.10/site-packages/polykin/thermo/acm/floryhuggins.py:315: RuntimeWarning: overflow encountered in exp\n",
      "  return phi*exp(1 - m*(A - B + C))\n"
     ]
    },
    {
     "data": {
      "text/plain": [
       "(array([nan, nan]), array([nan, nan]), 0.5, 399)"
      ]
     },
     "execution_count": 49,
     "metadata": {},
     "output_type": "execute_result"
    }
   ],
   "source": [
    "flash_gamma_gamma(params, z, k0, T)"
   ]
  },
  {
   "cell_type": "code",
   "execution_count": null,
   "metadata": {},
   "outputs": [],
   "source": []
  }
 ],
 "metadata": {
  "kernelspec": {
   "display_name": "pgf_lib",
   "language": "python",
   "name": "python3"
  },
  "language_info": {
   "codemirror_mode": {
    "name": "ipython",
    "version": 3
   },
   "file_extension": ".py",
   "mimetype": "text/x-python",
   "name": "python",
   "nbconvert_exporter": "python",
   "pygments_lexer": "ipython3",
   "version": "3.10.6"
  }
 },
 "nbformat": 4,
 "nbformat_minor": 2
}
