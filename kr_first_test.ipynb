{
 "cells": [
  {
   "cell_type": "code",
   "execution_count": 4,
   "metadata": {},
   "outputs": [],
   "source": [
    "import numpy as np"
   ]
  },
  {
   "cell_type": "code",
   "execution_count": 5,
   "metadata": {},
   "outputs": [],
   "source": [
    "# constants #\n",
    "\n",
    "ki = 1.2e-06 # 1/s\n",
    "kp = 500 # L/mol*s\n",
    "ktc = 6e06 # L/mol*s\n",
    "ktd = 6e06 # L/mol*s\n",
    "kfm = 9.1e-02 # L/mol*s\n",
    "kfp = 0.5 # L/mol*s\n",
    "kpp = 0.05 # L/mol*s\n",
    "f = 1\n",
    "M0 = 8.4 # mol/L\n",
    "I0 = 0.002 #mol/L"
   ]
  },
  {
   "cell_type": "code",
   "execution_count": 15,
   "metadata": {},
   "outputs": [],
   "source": [
    "def lambda_0(I): # moment zero for radicals\n",
    "    return np.sqrt((2 * f * ki * I) / ktd)\n",
    "\n",
    "def lambda_1(M, L0, mu_1, mu_2): # momento one for radicals\n",
    "    num = kp * M * L0 + kfp * L0 * mu_2\n",
    "    denm = kfm * M + ktd * L0 + kfp * mu_1\n",
    "    \n",
    "    return num / denm"
   ]
  },
  {
   "cell_type": "code",
   "execution_count": 16,
   "metadata": {},
   "outputs": [],
   "source": [
    "# Crear un array con 400 elementos de valor 1/2500\n",
    "b = np.ones(400) / 2500 \n",
    "\n",
    "# Crear un array de 400 valores, cada uno múltiplo de 2500\n",
    "n = np.arange(1, 401) * 2500  # Va de 1*2500 a 400*2500"
   ]
  },
  {
   "cell_type": "code",
   "execution_count": 18,
   "metadata": {},
   "outputs": [],
   "source": [
    "def balances_KR(t, y):\n",
    "\n",
    "    I = y[0]\n",
    "    M = y[1]\n",
    "\n",
    "    # momentos\n",
    "    mu_0 = y[2]\n",
    "    mu_1 = y[3]\n",
    "    mu_2 = y[4]\n",
    "\n",
    "    L0 = lambda_0(I)\n",
    "    L1 = lambda_1(M, L0, mu_1, mu_2)\n",
    "    \n",
    "    dmu_0dt = kfm * M * L0 + ktd * L0**2\n",
    "    dmu_1dt = kp * M * L0\n",
    "    dmu_2dt = kp * M * (L0 + 2 * L1) + ktc * L1**2\n",
    "\n",
    "    # sistema dicretizado\n",
    "    dNrdt = np.zeros(400)\n",
    "    dNpdt = np.zeros(400)\n",
    "    for idx, value in enumerate(dNrdt):\n",
    "        if idx == 0:\n",
    "            dNrdt[idx] = (- (kfm * M + ktd * L0 + kfp * y[3]) * y[idx + 4] \n",
    "                        + kp * M * (b[idx-1] * y[idx-1] - b[idx] * y[idx])\n",
    "                        + kfp * L0 * n[idx] * y[idx] + kfm * M * L0 + 2 * f * ki * I\n",
    "                        )\n",
    "        else:\n",
    "            dNrdt[idx] = (- (kfm * M + ktd * L0 + kfp * y[3]) * y[idx + 4] \n",
    "                        + kp * M * (b[idx-1] * y[idx-1] - b[idx] * y[idx])\n",
    "                        + kfp * L0 * n[idx] * y[idx]\n",
    "        )\n",
    "    for idx, value in enumerate(dNpdt):\n",
    "        dNpdt[idx] = - kfp * L0 * n[idx] * y[idx] + (kfm * M + ktd * L0 + ktd * L0 + kfp * y[3]) * y[idx]\n",
    "\n",
    "\n",
    "    \n",
    "    return \"que sea lo que Dios quiera\""
   ]
  },
  {
   "cell_type": "code",
   "execution_count": null,
   "metadata": {},
   "outputs": [],
   "source": []
  }
 ],
 "metadata": {
  "kernelspec": {
   "display_name": "pgf_lib",
   "language": "python",
   "name": "python3"
  },
  "language_info": {
   "codemirror_mode": {
    "name": "ipython",
    "version": 3
   },
   "file_extension": ".py",
   "mimetype": "text/x-python",
   "name": "python",
   "nbconvert_exporter": "python",
   "pygments_lexer": "ipython3",
   "version": "3.10.6"
  }
 },
 "nbformat": 4,
 "nbformat_minor": 2
}
