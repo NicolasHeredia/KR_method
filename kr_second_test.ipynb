{
 "cells": [
  {
   "cell_type": "code",
   "execution_count": 45,
   "metadata": {},
   "outputs": [],
   "source": [
    "import numpy as np\n",
    "from scipy.integrate import solve_ivp\n",
    "from numba import njit\n",
    "from scipy.linalg import solve_triangular\n",
    "import matplotlib.pyplot as plt\n",
    "from functions.kr_functions import log_points, ab_fraction"
   ]
  },
  {
   "cell_type": "code",
   "execution_count": 46,
   "metadata": {},
   "outputs": [],
   "source": [
    "# constants #\n",
    "\n",
    "ki = 1.2e-06 * 60 # 1/s\n",
    "kp = 500 * 60 # L/mol*s\n",
    "ktc = 6e06 * 60# L/mol*s\n",
    "ktd = 0.0 * 60# 6e06 # L/mol*s\n",
    "kfm = 9.1e-02 * 60# L/mol*s\n",
    "kfp = 0.0 #0.5 * 60# L/mol*s\n",
    "kpp = 0.05 * 60 # L/mol*s\n",
    "f = 1.0\n",
    "M0 = 8.4 # mol/L\n",
    "I0 = 0.002 #mol/L\n",
    "\n",
    "ks = (ki, kp, ktc, ktd, kfm, kfp)"
   ]
  },
  {
   "cell_type": "code",
   "execution_count": 47,
   "metadata": {},
   "outputs": [],
   "source": [
    "@njit\n",
    "def lambda_0(I): # moment zero for radicals\n",
    "    return np.sqrt((2 * f * ki * I) / (ktd + ktc))\n",
    "\n",
    "@njit\n",
    "def lambda_1(M, L0, mu_1, mu_2): # momento one for radicals\n",
    "    num = kp * M * L0 + kfp * L0 * mu_2\n",
    "    denm = kfm * M + (ktd + ktc) * L0 + kfp * mu_1\n",
    "    \n",
    "    return num / denm"
   ]
  },
  {
   "cell_type": "code",
   "execution_count": 48,
   "metadata": {},
   "outputs": [],
   "source": [
    "n = log_points(400, 2, 1_000_000)"
   ]
  },
  {
   "cell_type": "code",
   "execution_count": null,
   "metadata": {},
   "outputs": [],
   "source": []
  },
  {
   "cell_type": "code",
   "execution_count": 49,
   "metadata": {},
   "outputs": [],
   "source": [
    "# Crear un array con 400 elementos para b de propagación\n",
    "b_p = 1.0 / np.diff(n)\n",
    "b_p = np.append(b_p, b_p[-1])"
   ]
  },
  {
   "cell_type": "code",
   "execution_count": 50,
   "metadata": {},
   "outputs": [],
   "source": [
    "ai_dict, bi_dict = ab_fraction(n)"
   ]
  },
  {
   "cell_type": "code",
   "execution_count": 51,
   "metadata": {},
   "outputs": [],
   "source": [
    "fractions = (ai_dict, bi_dict, b_p)"
   ]
  },
  {
   "cell_type": "markdown",
   "metadata": {},
   "source": [
    "#### Con terminación por combinación"
   ]
  },
  {
   "cell_type": "code",
   "execution_count": 52,
   "metadata": {},
   "outputs": [],
   "source": [
    "# Función principal\n",
    "def balances_KR(t, y, n, ks, fractions):\n",
    "\n",
    "    nn = len(n)\n",
    "    ki, kp, ktc, ktd, kfm, kfp = ks\n",
    "    ai_dict, bi_dict, b_p = fractions\n",
    "\n",
    "    # Descomposición del vector de estados\n",
    "    I = y[0]\n",
    "    M = y[1]\n",
    "    mu_0 = y[2]\n",
    "    mu_1 = y[3]\n",
    "    mu_2 = y[4]\n",
    "    Nrd = y[5:(nn+5)]  # Radicales\n",
    "    Npd = y[(nn+5):(nn*2)+5]  # Polímeros\n",
    "\n",
    "    # Cálculo de momentos de los radicales\n",
    "    L0 = lambda_0(I)\n",
    "    L1 = lambda_1(M, L0, mu_1, mu_2)\n",
    "\n",
    "    # Ecuaciones diferenciales\n",
    "    dIdt = -ki * I\n",
    "    dMdt = -(kp + kfm) * M * L0\n",
    "    dmu_0dt = kfm * M * L0 + (0.5 * ktc + ktd) * L0**2\n",
    "    dmu_1dt = kp * M * L0\n",
    "    dmu_2dt = 0.0 #kp * M * (L0 + 2 * L1) + ktc * L1**2\n",
    "\n",
    "    # Ecuaciones para los radicales y polímeros\n",
    "    dNrdt = np.zeros_like(Nrd)\n",
    "    dNpdt = np.zeros_like(Npd)\n",
    "\n",
    "    # Resolver para los radicales con QSSA\n",
    "    A = np.zeros((len(Npd), len(Npd)))\n",
    "    b = np.zeros(len(Npd))\n",
    "\n",
    "    for idx in range(len(Npd)):\n",
    "        if idx == 0:\n",
    "            A[idx, idx] = -(kfm * M + (ktd + ktc) * L0 + kfp * mu_1) - kp * M * b_p[idx]\n",
    "            b[idx] = -(kfm * M * L0 + 2 * f * ki * I + kfp * L0 * n[idx] * Npd[idx])\n",
    "        else:\n",
    "            A[idx, idx] = -(kfm * M + (ktd + ktc) * L0 + kfp * mu_1) - kp * M * b_p[idx]\n",
    "            A[idx, idx-1] = kp * M * b_p[idx-1]\n",
    "            b[idx] = -(kfp * L0 * n[idx] * Npd[idx])\n",
    "    \n",
    "    Nrd = solve_triangular(A, b, lower=True)\n",
    "\n",
    "    for idx in range(len(Npd)):\n",
    "        # Obtener los valores desde el diccionario o None si no existen\n",
    "        ai_idx = ai_dict.get(idx, None)\n",
    "        bi_idx = bi_dict.get(idx, None)\n",
    "\n",
    "        # Inicializar sumas\n",
    "        suma_1 = 0.0\n",
    "        suma_2 = 0.0\n",
    "\n",
    "        # Solo calcular si hay datos en ai_idx\n",
    "        if ai_idx is not None and len(ai_idx) > 0:\n",
    "            ai_idx = np.array(ai_idx)  # Convertir a array solo una vez\n",
    "            idx_0, idx_1 = ai_idx[:, :2].astype(int).T  # Extraer y convertir las dos primeras columnas a int\n",
    "            coef = ai_idx[:, 2]  # La tercera columna sigue como flotante\n",
    "\n",
    "            suma_1 = np.sum(coef * Nrd[idx_0] * Nrd[idx_1])\n",
    "            \n",
    "\n",
    "        # Solo calcular si hay datos en bi_idx\n",
    "        if bi_idx is not None and len(bi_idx) > 0:\n",
    "            bi_idx = np.array(bi_idx)  # Convertir a array solo una vez\n",
    "            idx_0, idx_1 = bi_idx[:, :2].astype(int).T  # Extraer y convertir las dos primeras columnas a int\n",
    "            coef = bi_idx[:, 2]  # La tercera columna sigue como flotante\n",
    "\n",
    "            suma_2 = np.sum(coef * Nrd[idx_0] * Nrd[idx_1])\n",
    "\n",
    "        # Ecuación diferencial\n",
    "        dNpdt[idx] = (- kfp * L0 * n[idx] * Npd[idx]\n",
    "                    + (kfm * M + ktd * L0 + kfp * mu_1) * Nrd[idx]\n",
    "                    + (ktc/2) * (suma_1 + suma_2))\n",
    "\n",
    "    # Concatenación de derivadas\n",
    "    return np.concatenate(([dIdt, dMdt, dmu_0dt, dmu_1dt, dmu_2dt], dNrdt, dNpdt))"
   ]
  },
  {
   "cell_type": "code",
   "execution_count": 53,
   "metadata": {},
   "outputs": [],
   "source": [
    "y0 = np.zeros(len(n)*2+5)\n",
    "y0[0] = I0\n",
    "y0[1] = M0\n",
    "\n",
    "time = [0, 7500]\n",
    "t_get = [100, 1000, 3500, 10000, 15000, 40000, 60000, 71100, 90000]"
   ]
  },
  {
   "cell_type": "code",
   "execution_count": 54,
   "metadata": {},
   "outputs": [],
   "source": [
    "sol = solve_ivp(\n",
    "      balances_KR,\n",
    "      time, \n",
    "      y0, \n",
    "      #t_eval=t_get,\n",
    "      method='LSODA',\n",
    "      rtol=1e-08,\n",
    "      atol=1e-010,\n",
    "      args=(n, ks,fractions,)\n",
    "      )"
   ]
  },
  {
   "cell_type": "code",
   "execution_count": 55,
   "metadata": {},
   "outputs": [
    {
     "data": {
      "text/plain": [
       "  message: The solver successfully reached the end of the integration interval.\n",
       "  success: True\n",
       "   status: 0\n",
       "        t: [ 0.000e+00  1.403e-04 ...  7.321e+03  7.500e+03]\n",
       "        y: [[ 2.000e-03  2.000e-03 ...  1.181e-03  1.165e-03]\n",
       "            [ 8.400e+00  8.400e+00 ...  3.566e-02  3.175e-02]\n",
       "            ...\n",
       "            [ 0.000e+00  3.972e-64 ...  2.157e-58  2.157e-58]\n",
       "            [ 0.000e+00  2.833e-64 ...  1.534e-58  1.534e-58]]\n",
       "      sol: None\n",
       " t_events: None\n",
       " y_events: None\n",
       "     nfev: 139\n",
       "     njev: 0\n",
       "      nlu: 0"
      ]
     },
     "execution_count": 55,
     "metadata": {},
     "output_type": "execute_result"
    }
   ],
   "source": [
    "sol"
   ]
  },
  {
   "cell_type": "code",
   "execution_count": 56,
   "metadata": {},
   "outputs": [
    {
     "data": {
      "image/png": "[encoded data removed]",
      "text/plain": [
       "<Figure size 640x480 with 1 Axes>"
      ]
     },
     "metadata": {},
     "output_type": "display_data"
    }
   ],
   "source": [
    "X = (M0 - sol.y[1]) / M0\n",
    "plt.plot(sol.t, X, label=\"conversion\")\n",
    "plt.legend()\n",
    "plt.grid()\n",
    "plt.show()"
   ]
  },
  {
   "cell_type": "code",
   "execution_count": 57,
   "metadata": {},
   "outputs": [
    {
     "data": {
      "text/plain": [
       "(68,)"
      ]
     },
     "execution_count": 57,
     "metadata": {},
     "output_type": "execute_result"
    }
   ],
   "source": [
    "sol.t.shape"
   ]
  },
  {
   "cell_type": "code",
   "execution_count": 59,
   "metadata": {},
   "outputs": [
    {
     "data": {
      "text/plain": [
       "<matplotlib.legend.Legend at 0x7f8564595c60>"
      ]
     },
     "execution_count": 59,
     "metadata": {},
     "output_type": "execute_result"
    },
    {
     "data": {
      "image/png": "[encoded data removed]",
      "text/plain": [
       "<Figure size 640x480 with 1 Axes>"
      ]
     },
     "metadata": {},
     "output_type": "display_data"
    }
   ],
   "source": [
    "nlog = np.log10(n)\n",
    "pn1 = sol.y[405:805, 67] / (1/b_p)\n",
    "pn2 = sol.y[405:805, 40] / (1/b_p)\n",
    "\n",
    "pn1n = np.multiply(pn1, n)\n",
    "pn2n = np.multiply(pn2, n)\n",
    "\n",
    "plt.plot(nlog, pn1n, 'ob', label='1')\n",
    "plt.plot(nlog, pn2n, 'or', label = '2')\n",
    "plt.grid()\n",
    "plt.legend()"
   ]
  },
  {
   "cell_type": "code",
   "execution_count": null,
   "metadata": {},
   "outputs": [
    {
     "name": "stdout",
     "output_type": "stream",
     "text": [
      "0.08079856407829565\n",
      "8.31768761677552\n",
      "8.398486180853816\n"
     ]
    }
   ],
   "source": [
    "a = sol.y[1][60]\n",
    "b = sol.y[3][60]\n",
    "print(a)\n",
    "print(b)\n",
    "print(a+b)"
   ]
  },
  {
   "cell_type": "code",
   "execution_count": null,
   "metadata": {},
   "outputs": [],
   "source": []
  }
 ],
 "metadata": {
  "kernelspec": {
   "display_name": "pgf_lib",
   "language": "python",
   "name": "python3"
  },
  "language_info": {
   "codemirror_mode": {
    "name": "ipython",
    "version": 3
   },
   "file_extension": ".py",
   "mimetype": "text/x-python",
   "name": "python",
   "nbconvert_exporter": "python",
   "pygments_lexer": "ipython3",
   "version": "3.10.6"
  }
 },
 "nbformat": 4,
 "nbformat_minor": 2
}
