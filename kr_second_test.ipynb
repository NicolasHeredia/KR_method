{
 "cells": [
  {
   "cell_type": "code",
   "execution_count": 1,
   "metadata": {},
   "outputs": [],
   "source": [
    "import numpy as np\n",
    "from scipy.integrate import solve_ivp\n",
    "from numba import njit"
   ]
  },
  {
   "cell_type": "code",
   "execution_count": 2,
   "metadata": {},
   "outputs": [],
   "source": [
    "# constants #\n",
    "\n",
    "ki = 1.2e-06 # 1/s\n",
    "kp = 500 # L/mol*s\n",
    "ktc = 6e06 # L/mol*s\n",
    "ktd = 6e06 # L/mol*s\n",
    "kfm = 9.1e-02 # L/mol*s\n",
    "kfp = 0.5 # L/mol*s\n",
    "kpp = 0.05 # L/mol*s\n",
    "f = 1.0\n",
    "M0 = 8.4 # mol/L\n",
    "I0 = 0.002 #mol/L"
   ]
  },
  {
   "cell_type": "code",
   "execution_count": 3,
   "metadata": {},
   "outputs": [],
   "source": [
    "@njit\n",
    "def lambda_0(I): # moment zero for radicals\n",
    "    return np.sqrt((2 * f * ki * I) / ktd)\n",
    "\n",
    "@njit\n",
    "def lambda_1(M, L0, mu_1, mu_2): # momento one for radicals\n",
    "    num = kp * M * L0 + kfp * L0 * mu_2\n",
    "    denm = kfm * M + ktd * L0 + kfp * mu_1\n",
    "    \n",
    "    return num / denm"
   ]
  },
  {
   "cell_type": "code",
   "execution_count": 4,
   "metadata": {},
   "outputs": [],
   "source": [
    "# Crear un array de 400 valores para n\n",
    "\n",
    "n = np.arange(1, 401) * 2500  \n",
    "\n",
    "# Crear un array con 400 elementos para b de propagación\n",
    "b_p = 1.0 / np.diff(n)\n",
    "b_p = np.append(b_p, b_p[-1])"
   ]
  },
  {
   "cell_type": "code",
   "execution_count": 5,
   "metadata": {},
   "outputs": [],
   "source": [
    "def a_fraction(n):\n",
    "    \"\"\"\n",
    "    Calcula la matriz de resultados con los índices, pares (p, l) y el valor de `ai`.\n",
    "\n",
    "    Args:\n",
    "        n (array-like): Array de valores a procesar.\n",
    "\n",
    "    Returns:\n",
    "        numpy.ndarray: Matriz con las columnas [idx, p, l, ai].\n",
    "    \"\"\"\n",
    "    n = np.array(n)  # Asegurarse de que 'n' sea un array de numpy\n",
    "    results = []  # Lista para almacenar los resultados\n",
    "\n",
    "    for p in range(len(n)):\n",
    "        for l in range(p, len(n)):\n",
    "            nj, nk = n[p], n[l]\n",
    "            njk = nj + nk\n",
    "            idx = np.searchsorted(n, njk, side=\"right\") - 1  # Encontrar índice del intervalo\n",
    "            if idx >= 0 and idx < len(n) - 1:\n",
    "                if njk == n[idx]:\n",
    "                    ai = 0.0\n",
    "                else:\n",
    "                    ai = (n[idx + 1] - (n[p] + n[l])) / (n[idx + 1] - n[idx])\n",
    "                results.append((idx, p, l, ai))  # Agregar resultado a la lista\n",
    "\n",
    "    return np.array(results, dtype=object)  # Convertir la lista en un array NumPy"
   ]
  },
  {
   "cell_type": "code",
   "execution_count": 6,
   "metadata": {},
   "outputs": [],
   "source": [
    "def b_fraction(a_results):\n",
    "    # Filtrar las filas donde el primer elemento no sea 0\n",
    "    filtered_results = a_results[a_results[:, 0] != 0]\n",
    "\n",
    "    # Crear una copia para aplicar las transformaciones\n",
    "    b = np.copy(filtered_results)\n",
    "\n",
    "    # Incrementar el primer elemento en 1 y modificar el cuarto elemento\n",
    "    b[:, 0] = b[:, 0] + 1  # Incrementar el primer elemento\n",
    "    b[:, 3] = 1.0 - b[:, 3]  # Restar el cuarto elemento de 1.0\n",
    "\n",
    "    return b"
   ]
  },
  {
   "cell_type": "code",
   "execution_count": 7,
   "metadata": {},
   "outputs": [],
   "source": [
    "ai = a_fraction(n)\n",
    "bi = b_fraction(ai)"
   ]
  },
  {
   "cell_type": "code",
   "execution_count": 8,
   "metadata": {},
   "outputs": [
    {
     "data": {
      "text/plain": [
       "(39800, 4)"
      ]
     },
     "execution_count": 8,
     "metadata": {},
     "output_type": "execute_result"
    }
   ],
   "source": [
    "ai.shape"
   ]
  },
  {
   "cell_type": "code",
   "execution_count": 9,
   "metadata": {},
   "outputs": [],
   "source": [
    "from collections import defaultdict\n",
    "import numpy as np\n",
    "\n",
    "ai_dict = defaultdict(list)\n",
    "bi_dict = defaultdict(list)\n",
    "\n",
    "# Agrupar los datos, ignorando filas con el último valor = 0 y asegurando enteros\n",
    "for row in ai:\n",
    "    idx = int(row[0])  # Índice principal\n",
    "    if row[3] != 0:  # Si el último valor NO es 0, lo agregamos\n",
    "        ai_dict[idx].append([int(row[1]), int(row[2]), row[3]])  # Asegurar enteros en las dos primeras columnas\n",
    "\n",
    "for row in bi:\n",
    "    idx = int(row[0])  # Índice principal\n",
    "    if row[3] != 0:  # Si el último valor NO es 0, lo agregamos\n",
    "        bi_dict[idx].append([int(row[1]), int(row[2]), row[3]])  # Asegurar enteros en las dos primeras columnas\n",
    "\n",
    "# Convertimos listas en arrays de NumPy asegurando que las dos primeras columnas sean enteros\n",
    "for key in ai_dict:\n",
    "    arr = np.array(ai_dict[key], dtype=object)  # Convertir a dtype=object para modificar por columnas\n",
    "    arr[:, :2] = arr[:, :2].astype(int)  # Convertir las dos primeras columnas a enteros\n",
    "    ai_dict[key] = np.array(arr.tolist(), dtype=object)  # Reconvertir a un array sin forzar float\n",
    "\n",
    "for key in bi_dict:\n",
    "    arr = np.array(bi_dict[key], dtype=object)\n",
    "    arr[:, :2] = arr[:, :2].astype(int)\n",
    "    bi_dict[key] = np.array(arr.tolist(), dtype=object)\n"
   ]
  },
  {
   "cell_type": "code",
   "execution_count": 10,
   "metadata": {},
   "outputs": [
    {
     "data": {
      "text/plain": [
       "array([[0, 0, 1.0]], dtype=object)"
      ]
     },
     "execution_count": 10,
     "metadata": {},
     "output_type": "execute_result"
    }
   ],
   "source": [
    "bi_dict[2]"
   ]
  },
  {
   "cell_type": "code",
   "execution_count": 11,
   "metadata": {},
   "outputs": [
    {
     "data": {
      "text/plain": [
       "array([0, 1, 2, 3, 4, 5, 6, 7, 8, 9, 10, 11, 12, 13, 14, 15, 16, 17, 18,\n",
       "       19, 20, 21], dtype=object)"
      ]
     },
     "execution_count": 11,
     "metadata": {},
     "output_type": "execute_result"
    }
   ],
   "source": [
    "bi_idx = bi_dict.get(44, None)\n",
    "bi_idx[:, 0]\n"
   ]
  },
  {
   "cell_type": "code",
   "execution_count": 12,
   "metadata": {},
   "outputs": [],
   "source": [
    "# Función principal\n",
    "def balances_KR(t, y):\n",
    "    # Descomposición del vector de estados\n",
    "    I = y[0]\n",
    "    M = y[1]\n",
    "    mu_0 = y[2]\n",
    "    mu_1 = y[3]\n",
    "    mu_2 = y[4]\n",
    "    Nrd = y[5:405]  # Radicales\n",
    "    Npd = y[405:805]  # Polímeros\n",
    "\n",
    "    # Cálculo de momentos de los radicales\n",
    "    L0 = lambda_0(I)\n",
    "    L1 = lambda_1(M, L0, mu_1, mu_2)\n",
    "\n",
    "    # Ecuaciones diferenciales\n",
    "    dIdt = -ki * I\n",
    "    dMdt = -(kp + kfm) * M * L0\n",
    "    dmu_0dt = kfm * M * L0 + ktd * L0**2\n",
    "    dmu_1dt = kp * M * L0\n",
    "    dmu_2dt = kp * M * (L0 + 2 * L1)\n",
    "\n",
    "    # Ecuaciones para los radicales y polímeros\n",
    "    dNrdt = np.zeros_like(Nrd)\n",
    "    dNpdt = np.zeros_like(Npd)\n",
    "\n",
    "    for idx in range(len(Nrd)):\n",
    "        if idx == 0:\n",
    "            dNrdt[idx] = (- (kfm * M + (ktd + ktc) * L0 + kfp * mu_1) * Nrd[idx]\n",
    "                          - kp * M * (b_p[idx] * Nrd[idx])\n",
    "                          + kfp * L0 * n[idx] * Npd[idx]\n",
    "                          + kfm * M * L0 + 2 * f * ki * I)\n",
    "        else:\n",
    "            dNrdt[idx] = (- (kfm * M + (ktd + ktc) * L0 + kfp * mu_1) * Nrd[idx]\n",
    "                          + kp * M * (b_p[idx-1] * Nrd[idx-1] - b_p[idx] * Nrd[idx])\n",
    "                          + kfp * L0 * n[idx] * Npd[idx])\n",
    "\n",
    "    for idx in range(len(Npd)):\n",
    "        # Obtener los valores desde el diccionario o None si no existen\n",
    "        ai_idx = ai_dict.get(idx, None)\n",
    "        bi_idx = bi_dict.get(idx, None)\n",
    "\n",
    "        # Inicializar sumas\n",
    "        suma_1 = 0.0\n",
    "        suma_2 = 0.0\n",
    "\n",
    "        # Solo calcular si hay datos en ai_idx\n",
    "        if ai_idx is not None and len(ai_idx) > 0:\n",
    "            suma_1 = np.sum(ai_idx[: , 2] * Nrd[ai_idx[:, 0]] * Nrd[ai_idx[:, 1]])\n",
    "\n",
    "        # Solo calcular si hay datos en bi_idx\n",
    "        if bi_idx is not None and len(bi_idx) > 0:\n",
    "            idx_0 = np.array(bi_idx[:, 0], dtype=int)  # Convertir la primera columna a int\n",
    "            idx_1 = np.array(bi_idx[:, 1], dtype=int)  # Convertir la segunda columna a int\n",
    "            coef = bi_idx[:, 2]  # La tercera columna sigue siendo flotante\n",
    "\n",
    "            suma_2 = np.sum(coef * Nrd[idx_0] * Nrd[idx_1])\n",
    "\n",
    "        # Ecuación diferencial\n",
    "        dNpdt[idx] = (- kfp * L0 * n[idx] * Npd[idx]\n",
    "                    + (kfm * M + ktd * L0 + kfp * mu_1) * Nrd[idx]\n",
    "                    + (ktc / 2) * (suma_1 + suma_2))\n",
    "\n",
    "\n",
    "    # Concatenación de derivadas\n",
    "    return np.concatenate(([dIdt, dMdt, dmu_0dt, dmu_1dt, dmu_2dt], dNrdt, dNpdt))"
   ]
  },
  {
   "cell_type": "code",
   "execution_count": 13,
   "metadata": {},
   "outputs": [],
   "source": [
    "y0 = np.zeros(805)\n",
    "y0[0] = I0\n",
    "y0[1] = M0\n",
    "\n",
    "time = [0, 5]\n",
    "t_get = [100, 1000, 3500, 10000, 15000, 40000, 60000, 71100, 90000]"
   ]
  },
  {
   "cell_type": "code",
   "execution_count": 14,
   "metadata": {},
   "outputs": [],
   "source": [
    "sol = solve_ivp(\n",
    "      balances_KR,\n",
    "      time, \n",
    "      y0, \n",
    "      #t_eval=t_get,\n",
    "      method='LSODA',\n",
    "      #rtol=1e-07,\n",
    "      #atol=1e-10,\n",
    "      vectorized=True\n",
    "      )"
   ]
  },
  {
   "cell_type": "code",
   "execution_count": 17,
   "metadata": {},
   "outputs": [
    {
     "data": {
      "text/plain": [
       "array([0.00000000e+000, 0.00000000e+000, 0.00000000e+000, 0.00000000e+000,\n",
       "       0.00000000e+000, 0.00000000e+000, 0.00000000e+000, 0.00000000e+000,\n",
       "       6.02804095e-239, 3.44542158e-179, 2.16419816e-159, 3.55435287e-148,\n",
       "       4.20539351e-140, 1.24421774e-133, 3.48883736e-128, 6.78855647e-123,\n",
       "       4.52839845e-118, 1.47841746e-113, 4.89651073e-109, 7.60925649e-105,\n",
       "       6.10939708e-101, 1.63704843e-096, 2.95172264e-037])"
      ]
     },
     "execution_count": 17,
     "metadata": {},
     "output_type": "execute_result"
    }
   ],
   "source": [
    "sol.y[600]"
   ]
  },
  {
   "cell_type": "code",
   "execution_count": 19,
   "metadata": {},
   "outputs": [
    {
     "data": {
      "image/png": "[encoded data removed]",
      "text/plain": [
       "<Figure size 640x480 with 1 Axes>"
      ]
     },
     "metadata": {},
     "output_type": "display_data"
    }
   ],
   "source": [
    "# Visualización\n",
    "import matplotlib.pyplot as plt\n",
    "\n",
    "#plt.plot(sol.t, sol.y[0], label=\"Iniciador (I)\")\n",
    "plt.plot(sol.t, sol.y[1], label=\"Monómero (M)\")\n",
    "plt.legend()\n",
    "plt.xlabel(\"Tiempo\")\n",
    "plt.ylabel(\"Concentración\")\n",
    "plt.grid()\n",
    "plt.show()"
   ]
  },
  {
   "cell_type": "code",
   "execution_count": null,
   "metadata": {},
   "outputs": [],
   "source": []
  }
 ],
 "metadata": {
  "kernelspec": {
   "display_name": "pgf_lib",
   "language": "python",
   "name": "python3"
  },
  "language_info": {
   "codemirror_mode": {
    "name": "ipython",
    "version": 3
   },
   "file_extension": ".py",
   "mimetype": "text/x-python",
   "name": "python",
   "nbconvert_exporter": "python",
   "pygments_lexer": "ipython3",
   "version": "3.10.6"
  }
 },
 "nbformat": 4,
 "nbformat_minor": 2
}
