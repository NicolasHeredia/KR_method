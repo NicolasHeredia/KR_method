{
 "cells": [
  {
   "cell_type": "code",
   "execution_count": 69,
   "metadata": {},
   "outputs": [],
   "source": [
    "import numpy as np\n",
    "from scipy.integrate import solve_ivp\n",
    "from numba import njit"
   ]
  },
  {
   "cell_type": "code",
   "execution_count": 70,
   "metadata": {},
   "outputs": [],
   "source": [
    "# constants #\n",
    "\n",
    "ki = 1.2e-06 # 1/s\n",
    "kp = 500 # L/mol*s\n",
    "ktc = 6e06 # L/mol*s\n",
    "ktd = 6e06 # L/mol*s\n",
    "kfm = 9.1e-02 # L/mol*s\n",
    "kfp = 0.5 # L/mol*s\n",
    "kpp = 0.05 # L/mol*s\n",
    "f = 1.0\n",
    "M0 = 8.4 # mol/L\n",
    "I0 = 0.002 #mol/L"
   ]
  },
  {
   "cell_type": "code",
   "execution_count": 71,
   "metadata": {},
   "outputs": [],
   "source": [
    "@njit\n",
    "def lambda_0(I): # moment zero for radicals\n",
    "    return np.sqrt((2 * f * ki * I) / ktd)\n",
    "\n",
    "@njit\n",
    "def lambda_1(M, L0, mu_1, mu_2): # momento one for radicals\n",
    "    num = kp * M * L0 + kfp * L0 * mu_2\n",
    "    denm = kfm * M + ktd * L0 + kfp * mu_1\n",
    "    \n",
    "    return num / denm"
   ]
  },
  {
   "cell_type": "code",
   "execution_count": 72,
   "metadata": {},
   "outputs": [],
   "source": [
    "# Crear un array de 400 valores para n\n",
    "\n",
    "n = np.arange(1, 401) * 2500  \n",
    "\n",
    "# Crear un array con 400 elementos para b de propagación\n",
    "b_p = 1.0 / np.diff(n)\n",
    "b_p = np.append(b_p, b_p[-1])"
   ]
  },
  {
   "cell_type": "code",
   "execution_count": 73,
   "metadata": {},
   "outputs": [],
   "source": [
    "def a_fraction(n):\n",
    "    \"\"\"\n",
    "    Calcula la matriz de resultados con los índices, pares (p, l) y el valor de `ai`.\n",
    "\n",
    "    Args:\n",
    "        n (array-like): Array de valores a procesar.\n",
    "\n",
    "    Returns:\n",
    "        numpy.ndarray: Matriz con las columnas [idx, p, l, ai].\n",
    "    \"\"\"\n",
    "    n = np.array(n)  # Asegurarse de que 'n' sea un array de numpy\n",
    "    results = []  # Lista para almacenar los resultados\n",
    "\n",
    "    for p in range(len(n)):\n",
    "        for l in range(p, len(n)):\n",
    "            nj, nk = n[p], n[l]\n",
    "            njk = nj + nk\n",
    "            idx = np.searchsorted(n, njk, side=\"right\") - 1  # Encontrar índice del intervalo\n",
    "            if idx >= 0 and idx < len(n) - 1:\n",
    "                if njk == n[idx]:\n",
    "                    ai = 0.0\n",
    "                else:\n",
    "                    ai = (n[idx + 1] - (n[p] + n[l])) / (n[idx + 1] - n[idx])\n",
    "                results.append((idx, p, l, ai))  # Agregar resultado a la lista\n",
    "\n",
    "    return np.array(results, dtype=object)  # Convertir la lista en un array NumPy"
   ]
  },
  {
   "cell_type": "code",
   "execution_count": 74,
   "metadata": {},
   "outputs": [],
   "source": [
    "def b_fraction(a_results):\n",
    "    # Filtrar las filas donde el primer elemento no sea 0\n",
    "    filtered_results = a_results[a_results[:, 0] != 0]\n",
    "\n",
    "    # Crear una copia para aplicar las transformaciones\n",
    "    b = np.copy(filtered_results)\n",
    "\n",
    "    # Incrementar el primer elemento en 1 y modificar el cuarto elemento\n",
    "    b[:, 0] = b[:, 0] + 1  # Incrementar el primer elemento\n",
    "    b[:, 3] = 1.0 - b[:, 3]  # Restar el cuarto elemento de 1.0\n",
    "\n",
    "    return b"
   ]
  },
  {
   "cell_type": "code",
   "execution_count": 75,
   "metadata": {},
   "outputs": [],
   "source": [
    "ai = a_fraction(n)\n",
    "bi = b_fraction(ai)"
   ]
  },
  {
   "cell_type": "code",
   "execution_count": 76,
   "metadata": {},
   "outputs": [
    {
     "data": {
      "text/plain": [
       "array([[44, 0, 43, 0.0],\n",
       "       [44, 1, 42, 0.0],\n",
       "       [44, 2, 41, 0.0],\n",
       "       [44, 3, 40, 0.0],\n",
       "       [44, 4, 39, 0.0],\n",
       "       [44, 5, 38, 0.0],\n",
       "       [44, 6, 37, 0.0],\n",
       "       [44, 7, 36, 0.0],\n",
       "       [44, 8, 35, 0.0],\n",
       "       [44, 9, 34, 0.0],\n",
       "       [44, 10, 33, 0.0],\n",
       "       [44, 11, 32, 0.0],\n",
       "       [44, 12, 31, 0.0],\n",
       "       [44, 13, 30, 0.0],\n",
       "       [44, 14, 29, 0.0],\n",
       "       [44, 15, 28, 0.0],\n",
       "       [44, 16, 27, 0.0],\n",
       "       [44, 17, 26, 0.0],\n",
       "       [44, 18, 25, 0.0],\n",
       "       [44, 19, 24, 0.0],\n",
       "       [44, 20, 23, 0.0],\n",
       "       [44, 21, 22, 0.0]], dtype=object)"
      ]
     },
     "execution_count": 76,
     "metadata": {},
     "output_type": "execute_result"
    }
   ],
   "source": [
    "filtered_results = ai[ai[:, 0] == 44]\n",
    "filtered_results"
   ]
  },
  {
   "cell_type": "code",
   "execution_count": 81,
   "metadata": {},
   "outputs": [],
   "source": [
    "# Función principal\n",
    "def balances_KR(t, y):\n",
    "    # Descomposición del vector de estados\n",
    "    I = y[0]\n",
    "    M = y[1]\n",
    "    mu_0 = y[2]\n",
    "    mu_1 = y[3]\n",
    "    mu_2 = y[4]\n",
    "    Nrd = y[5:405]  # Radicales\n",
    "    Npd = y[405:805]  # Polímeros\n",
    "\n",
    "    # Cálculo de momentos de los radicales\n",
    "    L0 = lambda_0(I)\n",
    "    L1 = lambda_1(M, L0, mu_1, mu_2)\n",
    "\n",
    "    # Ecuaciones diferenciales\n",
    "    dIdt = -ki * I\n",
    "    dMdt = -(kp + kfm) * M * L0\n",
    "    dmu_0dt = kfm * M * L0 + ktd * L0**2\n",
    "    dmu_1dt = kp * M * L0\n",
    "    dmu_2dt = kp * M * (L0 + 2 * L1)\n",
    "\n",
    "    # Ecuaciones para los radicales y polímeros\n",
    "    dNrdt = np.zeros_like(Nrd)\n",
    "    dNpdt = np.zeros_like(Npd)\n",
    "\n",
    "    for idx in range(len(Nrd)):\n",
    "        if idx == 0:\n",
    "            dNrdt[idx] = (- (kfm * M + (ktd + ktc) * L0 + kfp * mu_1) * Nrd[idx]\n",
    "                          - kp * M * (b_p[idx] * Nrd[idx])\n",
    "                          + kfp * L0 * n[idx] * Npd[idx]\n",
    "                          + kfm * M * L0 + 2 * f * ki * I)\n",
    "        else:\n",
    "            dNrdt[idx] = (- (kfm * M + (ktd + ktc) * L0 + kfp * mu_1) * Nrd[idx]\n",
    "                          + kp * M * (b_p[idx-1] * Nrd[idx-1] - b_p[idx] * Nrd[idx])\n",
    "                          + kfp * L0 * n[idx] * Npd[idx])\n",
    "\n",
    "    for idx in range(len(Npd)):\n",
    "        # terminos para la terminación por combinación\n",
    "        ai_idx = ai[ai[:, 0] == idx]\n",
    "        bi_idx = bi[bi[:, 0] == idx]\n",
    "\n",
    "        suma_1 = np.sum(ai_idx[:, 3] * Nrd[ai_idx[:, 1].astype(int)] * Nrd[ai_idx[:, 2].astype(int)])\n",
    "        suma_2 = np.sum(bi_idx[:, 3] * Nrd[bi_idx[:, 1].astype(int)] * Nrd[bi_idx[:, 2].astype(int)])\n",
    "\n",
    "\n",
    "        dNpdt[idx] = (- kfp * L0 * n[idx] * Npd[idx]\n",
    "                      + (kfm * M + ktd * L0 + kfp * mu_1) * Nrd[idx]\n",
    "                      + (ktc / 2) * (suma_1 + suma_2))\n",
    "\n",
    "    # Concatenación de derivadas\n",
    "    return np.concatenate(([dIdt, dMdt, dmu_0dt, dmu_1dt, dmu_2dt], dNrdt, dNpdt))"
   ]
  },
  {
   "cell_type": "code",
   "execution_count": 82,
   "metadata": {},
   "outputs": [],
   "source": [
    "y0 = np.zeros(805)\n",
    "y0[0] = I0\n",
    "y0[1] = M0\n",
    "\n",
    "time = [0, 5]\n",
    "t_get = [100, 1000, 3500, 10000, 15000, 40000, 60000, 71100, 90000]"
   ]
  },
  {
   "cell_type": "code",
   "execution_count": 83,
   "metadata": {},
   "outputs": [
    {
     "name": "stderr",
     "output_type": "stream",
     "text": [
      "capi_return is NULL\n",
      "Call-back cb_f_in_lsoda__user__routines failed.\n"
     ]
    },
    {
     "ename": "KeyboardInterrupt",
     "evalue": "",
     "output_type": "error",
     "traceback": [
      "\u001b[0;31m---------------------------------------------------------------------------\u001b[0m",
      "\u001b[0;31mKeyboardInterrupt\u001b[0m                         Traceback (most recent call last)",
      "Cell \u001b[0;32mIn[83], line 1\u001b[0m\n\u001b[0;32m----> 1\u001b[0m sol \u001b[38;5;241m=\u001b[39m \u001b[43msolve_ivp\u001b[49m\u001b[43m(\u001b[49m\n\u001b[1;32m      2\u001b[0m \u001b[43m      \u001b[49m\u001b[43mbalances_KR\u001b[49m\u001b[43m,\u001b[49m\n\u001b[1;32m      3\u001b[0m \u001b[43m      \u001b[49m\u001b[43mtime\u001b[49m\u001b[43m,\u001b[49m\u001b[43m \u001b[49m\n\u001b[1;32m      4\u001b[0m \u001b[43m      \u001b[49m\u001b[43my0\u001b[49m\u001b[43m,\u001b[49m\u001b[43m \u001b[49m\n\u001b[1;32m      5\u001b[0m \u001b[43m      \u001b[49m\u001b[38;5;66;43;03m#t_eval=t_get,\u001b[39;49;00m\n\u001b[1;32m      6\u001b[0m \u001b[43m      \u001b[49m\u001b[43mmethod\u001b[49m\u001b[38;5;241;43m=\u001b[39;49m\u001b[38;5;124;43m'\u001b[39;49m\u001b[38;5;124;43mLSODA\u001b[39;49m\u001b[38;5;124;43m'\u001b[39;49m\u001b[43m,\u001b[49m\n\u001b[1;32m      7\u001b[0m \u001b[43m      \u001b[49m\u001b[38;5;66;43;03m#rtol=1e-07,\u001b[39;49;00m\n\u001b[1;32m      8\u001b[0m \u001b[43m      \u001b[49m\u001b[38;5;66;43;03m#atol=1e-10,\u001b[39;49;00m\n\u001b[1;32m      9\u001b[0m \u001b[43m      \u001b[49m\u001b[43mvectorized\u001b[49m\u001b[38;5;241;43m=\u001b[39;49m\u001b[38;5;28;43;01mTrue\u001b[39;49;00m\n\u001b[1;32m     10\u001b[0m \u001b[43m      \u001b[49m\u001b[43m)\u001b[49m\n",
      "File \u001b[0;32m~/.virtualenvs/pgf_lib/lib/python3.10/site-packages/scipy/integrate/_ivp/ivp.py:650\u001b[0m, in \u001b[0;36msolve_ivp\u001b[0;34m(fun, t_span, y0, method, t_eval, dense_output, events, vectorized, args, **options)\u001b[0m\n\u001b[1;32m    648\u001b[0m status \u001b[38;5;241m=\u001b[39m \u001b[38;5;28;01mNone\u001b[39;00m\n\u001b[1;32m    649\u001b[0m \u001b[38;5;28;01mwhile\u001b[39;00m status \u001b[38;5;129;01mis\u001b[39;00m \u001b[38;5;28;01mNone\u001b[39;00m:\n\u001b[0;32m--> 650\u001b[0m     message \u001b[38;5;241m=\u001b[39m \u001b[43msolver\u001b[49m\u001b[38;5;241;43m.\u001b[39;49m\u001b[43mstep\u001b[49m\u001b[43m(\u001b[49m\u001b[43m)\u001b[49m\n\u001b[1;32m    652\u001b[0m     \u001b[38;5;28;01mif\u001b[39;00m solver\u001b[38;5;241m.\u001b[39mstatus \u001b[38;5;241m==\u001b[39m \u001b[38;5;124m'\u001b[39m\u001b[38;5;124mfinished\u001b[39m\u001b[38;5;124m'\u001b[39m:\n\u001b[1;32m    653\u001b[0m         status \u001b[38;5;241m=\u001b[39m \u001b[38;5;241m0\u001b[39m\n",
      "File \u001b[0;32m~/.virtualenvs/pgf_lib/lib/python3.10/site-packages/scipy/integrate/_ivp/base.py:197\u001b[0m, in \u001b[0;36mOdeSolver.step\u001b[0;34m(self)\u001b[0m\n\u001b[1;32m    195\u001b[0m \u001b[38;5;28;01melse\u001b[39;00m:\n\u001b[1;32m    196\u001b[0m     t \u001b[38;5;241m=\u001b[39m \u001b[38;5;28mself\u001b[39m\u001b[38;5;241m.\u001b[39mt\n\u001b[0;32m--> 197\u001b[0m     success, message \u001b[38;5;241m=\u001b[39m \u001b[38;5;28;43mself\u001b[39;49m\u001b[38;5;241;43m.\u001b[39;49m\u001b[43m_step_impl\u001b[49m\u001b[43m(\u001b[49m\u001b[43m)\u001b[49m\n\u001b[1;32m    199\u001b[0m     \u001b[38;5;28;01mif\u001b[39;00m \u001b[38;5;129;01mnot\u001b[39;00m success:\n\u001b[1;32m    200\u001b[0m         \u001b[38;5;28mself\u001b[39m\u001b[38;5;241m.\u001b[39mstatus \u001b[38;5;241m=\u001b[39m \u001b[38;5;124m'\u001b[39m\u001b[38;5;124mfailed\u001b[39m\u001b[38;5;124m'\u001b[39m\n",
      "File \u001b[0;32m~/.virtualenvs/pgf_lib/lib/python3.10/site-packages/scipy/integrate/_ivp/lsoda.py:161\u001b[0m, in \u001b[0;36mLSODA._step_impl\u001b[0;34m(self)\u001b[0m\n\u001b[1;32m    159\u001b[0m itask \u001b[38;5;241m=\u001b[39m integrator\u001b[38;5;241m.\u001b[39mcall_args[\u001b[38;5;241m2\u001b[39m]\n\u001b[1;32m    160\u001b[0m integrator\u001b[38;5;241m.\u001b[39mcall_args[\u001b[38;5;241m2\u001b[39m] \u001b[38;5;241m=\u001b[39m \u001b[38;5;241m5\u001b[39m\n\u001b[0;32m--> 161\u001b[0m solver\u001b[38;5;241m.\u001b[39m_y, solver\u001b[38;5;241m.\u001b[39mt \u001b[38;5;241m=\u001b[39m \u001b[43mintegrator\u001b[49m\u001b[38;5;241;43m.\u001b[39;49m\u001b[43mrun\u001b[49m\u001b[43m(\u001b[49m\n\u001b[1;32m    162\u001b[0m \u001b[43m    \u001b[49m\u001b[43msolver\u001b[49m\u001b[38;5;241;43m.\u001b[39;49m\u001b[43mf\u001b[49m\u001b[43m,\u001b[49m\u001b[43m \u001b[49m\u001b[43msolver\u001b[49m\u001b[38;5;241;43m.\u001b[39;49m\u001b[43mjac\u001b[49m\u001b[43m \u001b[49m\u001b[38;5;129;43;01mor\u001b[39;49;00m\u001b[43m \u001b[49m\u001b[43m(\u001b[49m\u001b[38;5;28;43;01mlambda\u001b[39;49;00m\u001b[43m:\u001b[49m\u001b[43m \u001b[49m\u001b[38;5;28;43;01mNone\u001b[39;49;00m\u001b[43m)\u001b[49m\u001b[43m,\u001b[49m\u001b[43m \u001b[49m\u001b[43msolver\u001b[49m\u001b[38;5;241;43m.\u001b[39;49m\u001b[43m_y\u001b[49m\u001b[43m,\u001b[49m\u001b[43m \u001b[49m\u001b[43msolver\u001b[49m\u001b[38;5;241;43m.\u001b[39;49m\u001b[43mt\u001b[49m\u001b[43m,\u001b[49m\n\u001b[1;32m    163\u001b[0m \u001b[43m    \u001b[49m\u001b[38;5;28;43mself\u001b[39;49m\u001b[38;5;241;43m.\u001b[39;49m\u001b[43mt_bound\u001b[49m\u001b[43m,\u001b[49m\u001b[43m \u001b[49m\u001b[43msolver\u001b[49m\u001b[38;5;241;43m.\u001b[39;49m\u001b[43mf_params\u001b[49m\u001b[43m,\u001b[49m\u001b[43m \u001b[49m\u001b[43msolver\u001b[49m\u001b[38;5;241;43m.\u001b[39;49m\u001b[43mjac_params\u001b[49m\u001b[43m)\u001b[49m\n\u001b[1;32m    164\u001b[0m integrator\u001b[38;5;241m.\u001b[39mcall_args[\u001b[38;5;241m2\u001b[39m] \u001b[38;5;241m=\u001b[39m itask\n\u001b[1;32m    166\u001b[0m \u001b[38;5;28;01mif\u001b[39;00m solver\u001b[38;5;241m.\u001b[39msuccessful():\n",
      "File \u001b[0;32m~/.virtualenvs/pgf_lib/lib/python3.10/site-packages/scipy/integrate/_ode.py:1347\u001b[0m, in \u001b[0;36mlsoda.run\u001b[0;34m(self, f, jac, y0, t0, t1, f_params, jac_params)\u001b[0m\n\u001b[1;32m   1344\u001b[0m     \u001b[38;5;28mself\u001b[39m\u001b[38;5;241m.\u001b[39macquire_new_handle()\n\u001b[1;32m   1345\u001b[0m args \u001b[38;5;241m=\u001b[39m [f, y0, t0, t1] \u001b[38;5;241m+\u001b[39m \u001b[38;5;28mself\u001b[39m\u001b[38;5;241m.\u001b[39mcall_args[:\u001b[38;5;241m-\u001b[39m\u001b[38;5;241m1\u001b[39m] \u001b[38;5;241m+\u001b[39m \\\n\u001b[1;32m   1346\u001b[0m        [jac, \u001b[38;5;28mself\u001b[39m\u001b[38;5;241m.\u001b[39mcall_args[\u001b[38;5;241m-\u001b[39m\u001b[38;5;241m1\u001b[39m], f_params, \u001b[38;5;241m0\u001b[39m, jac_params]\n\u001b[0;32m-> 1347\u001b[0m y1, t, istate \u001b[38;5;241m=\u001b[39m \u001b[38;5;28;43mself\u001b[39;49m\u001b[38;5;241;43m.\u001b[39;49m\u001b[43mrunner\u001b[49m\u001b[43m(\u001b[49m\u001b[38;5;241;43m*\u001b[39;49m\u001b[43margs\u001b[49m\u001b[43m)\u001b[49m\n\u001b[1;32m   1348\u001b[0m \u001b[38;5;28mself\u001b[39m\u001b[38;5;241m.\u001b[39mistate \u001b[38;5;241m=\u001b[39m istate\n\u001b[1;32m   1349\u001b[0m \u001b[38;5;28;01mif\u001b[39;00m istate \u001b[38;5;241m<\u001b[39m \u001b[38;5;241m0\u001b[39m:\n",
      "File \u001b[0;32m~/.virtualenvs/pgf_lib/lib/python3.10/site-packages/scipy/integrate/_ivp/base.py:154\u001b[0m, in \u001b[0;36mOdeSolver.__init__.<locals>.fun\u001b[0;34m(t, y)\u001b[0m\n\u001b[1;32m    152\u001b[0m \u001b[38;5;28;01mdef\u001b[39;00m \u001b[38;5;21mfun\u001b[39m(t, y):\n\u001b[1;32m    153\u001b[0m     \u001b[38;5;28mself\u001b[39m\u001b[38;5;241m.\u001b[39mnfev \u001b[38;5;241m+\u001b[39m\u001b[38;5;241m=\u001b[39m \u001b[38;5;241m1\u001b[39m\n\u001b[0;32m--> 154\u001b[0m     \u001b[38;5;28;01mreturn\u001b[39;00m \u001b[38;5;28;43mself\u001b[39;49m\u001b[38;5;241;43m.\u001b[39;49m\u001b[43mfun_single\u001b[49m\u001b[43m(\u001b[49m\u001b[43mt\u001b[49m\u001b[43m,\u001b[49m\u001b[43m \u001b[49m\u001b[43my\u001b[49m\u001b[43m)\u001b[49m\n",
      "File \u001b[0;32m~/.virtualenvs/pgf_lib/lib/python3.10/site-packages/scipy/integrate/_ivp/base.py:141\u001b[0m, in \u001b[0;36mOdeSolver.__init__.<locals>.fun_single\u001b[0;34m(t, y)\u001b[0m\n\u001b[1;32m    140\u001b[0m \u001b[38;5;28;01mdef\u001b[39;00m \u001b[38;5;21mfun_single\u001b[39m(t, y):\n\u001b[0;32m--> 141\u001b[0m     \u001b[38;5;28;01mreturn\u001b[39;00m \u001b[38;5;28;43mself\u001b[39;49m\u001b[38;5;241;43m.\u001b[39;49m\u001b[43m_fun\u001b[49m\u001b[43m(\u001b[49m\u001b[43mt\u001b[49m\u001b[43m,\u001b[49m\u001b[43m \u001b[49m\u001b[43my\u001b[49m\u001b[43m[\u001b[49m\u001b[43m:\u001b[49m\u001b[43m,\u001b[49m\u001b[43m \u001b[49m\u001b[38;5;28;43;01mNone\u001b[39;49;00m\u001b[43m]\u001b[49m\u001b[43m)\u001b[49m\u001b[38;5;241m.\u001b[39mravel()\n",
      "File \u001b[0;32m~/.virtualenvs/pgf_lib/lib/python3.10/site-packages/scipy/integrate/_ivp/base.py:23\u001b[0m, in \u001b[0;36mcheck_arguments.<locals>.fun_wrapped\u001b[0;34m(t, y)\u001b[0m\n\u001b[1;32m     22\u001b[0m \u001b[38;5;28;01mdef\u001b[39;00m \u001b[38;5;21mfun_wrapped\u001b[39m(t, y):\n\u001b[0;32m---> 23\u001b[0m     \u001b[38;5;28;01mreturn\u001b[39;00m np\u001b[38;5;241m.\u001b[39masarray(\u001b[43mfun\u001b[49m\u001b[43m(\u001b[49m\u001b[43mt\u001b[49m\u001b[43m,\u001b[49m\u001b[43m \u001b[49m\u001b[43my\u001b[49m\u001b[43m)\u001b[49m, dtype\u001b[38;5;241m=\u001b[39mdtype)\n",
      "Cell \u001b[0;32mIn[81], line 44\u001b[0m, in \u001b[0;36mbalances_KR\u001b[0;34m(t, y)\u001b[0m\n\u001b[1;32m     41\u001b[0m     bi_idx \u001b[38;5;241m=\u001b[39m bi[bi[:, \u001b[38;5;241m0\u001b[39m] \u001b[38;5;241m==\u001b[39m idx]\n\u001b[1;32m     43\u001b[0m     suma_1 \u001b[38;5;241m=\u001b[39m np\u001b[38;5;241m.\u001b[39msum(ai_idx[:, \u001b[38;5;241m3\u001b[39m] \u001b[38;5;241m*\u001b[39m Nrd[ai_idx[:, \u001b[38;5;241m1\u001b[39m]\u001b[38;5;241m.\u001b[39mastype(\u001b[38;5;28mint\u001b[39m)] \u001b[38;5;241m*\u001b[39m Nrd[ai_idx[:, \u001b[38;5;241m2\u001b[39m]\u001b[38;5;241m.\u001b[39mastype(\u001b[38;5;28mint\u001b[39m)])\n\u001b[0;32m---> 44\u001b[0m     suma_2 \u001b[38;5;241m=\u001b[39m np\u001b[38;5;241m.\u001b[39msum(bi_idx[:, \u001b[38;5;241m3\u001b[39m] \u001b[38;5;241m*\u001b[39m Nrd[bi_idx[:, \u001b[38;5;241m1\u001b[39m]\u001b[38;5;241m.\u001b[39mastype(\u001b[38;5;28mint\u001b[39m)] \u001b[38;5;241m*\u001b[39m Nrd[\u001b[43mbi_idx\u001b[49m\u001b[43m[\u001b[49m\u001b[43m:\u001b[49m\u001b[43m,\u001b[49m\u001b[43m \u001b[49m\u001b[38;5;241;43m2\u001b[39;49m\u001b[43m]\u001b[49m\u001b[38;5;241;43m.\u001b[39;49m\u001b[43mastype\u001b[49m\u001b[43m(\u001b[49m\u001b[38;5;28;43mint\u001b[39;49m\u001b[43m)\u001b[49m])\n\u001b[1;32m     47\u001b[0m     dNpdt[idx] \u001b[38;5;241m=\u001b[39m (\u001b[38;5;241m-\u001b[39m kfp \u001b[38;5;241m*\u001b[39m L0 \u001b[38;5;241m*\u001b[39m n[idx] \u001b[38;5;241m*\u001b[39m Npd[idx]\n\u001b[1;32m     48\u001b[0m                   \u001b[38;5;241m+\u001b[39m (kfm \u001b[38;5;241m*\u001b[39m M \u001b[38;5;241m+\u001b[39m ktd \u001b[38;5;241m*\u001b[39m L0 \u001b[38;5;241m+\u001b[39m kfp \u001b[38;5;241m*\u001b[39m mu_1) \u001b[38;5;241m*\u001b[39m Nrd[idx]\n\u001b[1;32m     49\u001b[0m                   \u001b[38;5;241m+\u001b[39m (ktc \u001b[38;5;241m/\u001b[39m \u001b[38;5;241m2\u001b[39m) \u001b[38;5;241m*\u001b[39m (suma_1 \u001b[38;5;241m+\u001b[39m suma_2))\n\u001b[1;32m     51\u001b[0m \u001b[38;5;66;03m# Concatenación de derivadas\u001b[39;00m\n",
      "\u001b[0;31mKeyboardInterrupt\u001b[0m: "
     ]
    }
   ],
   "source": [
    "sol = solve_ivp(\n",
    "      balances_KR,\n",
    "      time, \n",
    "      y0, \n",
    "      #t_eval=t_get,\n",
    "      method='LSODA',\n",
    "      #rtol=1e-07,\n",
    "      #atol=1e-10,\n",
    "      vectorized=True\n",
    "      )"
   ]
  },
  {
   "cell_type": "code",
   "execution_count": null,
   "metadata": {},
   "outputs": [
    {
     "data": {
      "text/plain": [
       "array([0.00000000e+00, 0.00000000e+00, 2.37537410e-43, 8.96702308e-19,\n",
       "       2.97072205e-11, 1.70306061e-10, 1.82362561e-10])"
      ]
     },
     "execution_count": 53,
     "metadata": {},
     "output_type": "execute_result"
    }
   ],
   "source": [
    "sol.y[10]"
   ]
  },
  {
   "cell_type": "code",
   "execution_count": null,
   "metadata": {},
   "outputs": [
    {
     "data": {
      "image/png": "[encoded data removed]",
      "text/plain": [
       "<Figure size 640x480 with 1 Axes>"
      ]
     },
     "metadata": {},
     "output_type": "display_data"
    }
   ],
   "source": [
    "# Visualización\n",
    "import matplotlib.pyplot as plt\n",
    "\n",
    "#plt.plot(sol.t, sol.y[0], label=\"Iniciador (I)\")\n",
    "plt.plot(sol.t, sol.y[1], label=\"Monómero (M)\")\n",
    "plt.legend()\n",
    "plt.xlabel(\"Tiempo\")\n",
    "plt.ylabel(\"Concentración\")\n",
    "plt.grid()\n",
    "plt.show()"
   ]
  },
  {
   "cell_type": "code",
   "execution_count": null,
   "metadata": {},
   "outputs": [],
   "source": []
  }
 ],
 "metadata": {
  "kernelspec": {
   "display_name": "pgf_lib",
   "language": "python",
   "name": "python3"
  },
  "language_info": {
   "codemirror_mode": {
    "name": "ipython",
    "version": 3
   },
   "file_extension": ".py",
   "mimetype": "text/x-python",
   "name": "python",
   "nbconvert_exporter": "python",
   "pygments_lexer": "ipython3",
   "version": "3.10.6"
  }
 },
 "nbformat": 4,
 "nbformat_minor": 2
}
