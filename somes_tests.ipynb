{
 "cells": [
  {
   "cell_type": "code",
   "execution_count": 14,
   "metadata": {},
   "outputs": [
    {
     "name": "stdout",
     "output_type": "stream",
     "text": [
      "[[0 0 0 0.75]\n",
      " [1 0 1 0.9]\n",
      " [2 0 2 0.9]\n",
      " [3 0 3 0.9]\n",
      " [4 0 4 0.8]\n",
      " [5 0 5 0.9714285714285714]\n",
      " [6 0 6 0.96]\n",
      " [1 1 1 0.5]\n",
      " [2 1 2 0.5]\n",
      " [3 1 3 0.5]\n",
      " [5 1 4 0.0]\n",
      " [5 1 5 0.8571428571428571]\n",
      " [6 1 6 0.8]\n",
      " [3 2 2 0.5]\n",
      " [5 2 3 0.0]\n",
      " [5 2 4 0.7142857142857143]\n",
      " [5 2 5 0.5714285714285714]\n",
      " [6 2 6 0.4]\n",
      " [5 3 3 0.7142857142857143]\n",
      " [5 3 4 0.42857142857142855]\n",
      " [5 3 5 0.2857142857142857]\n",
      " [5 4 4 0.14285714285714285]\n",
      " [6 4 5 0.0]\n",
      " [6 5 5 0.8]]\n"
     ]
    }
   ],
   "source": [
    "import numpy as np\n",
    "\n",
    "def a_fraction(n):\n",
    "    \"\"\"\n",
    "    Calcula la matriz de resultados con los índices, pares (p, l) y el valor de `ai`.\n",
    "\n",
    "    Args:\n",
    "        n (array-like): Array de valores a procesar.\n",
    "\n",
    "    Returns:\n",
    "        numpy.ndarray: Matriz con las columnas [idx, p, l, ai].\n",
    "    \"\"\"\n",
    "    n = np.array(n)  # Asegurarse de que 'n' sea un array de numpy\n",
    "    results = []  # Lista para almacenar los resultados\n",
    "\n",
    "    for p in range(len(n)):\n",
    "        for l in range(p, len(n)):\n",
    "            nj, nk = n[p], n[l]\n",
    "            njk = nj + nk\n",
    "            idx = np.searchsorted(n, njk, side=\"right\") - 1  # Encontrar índice del intervalo\n",
    "            if idx >= 0 and idx < len(n) - 1:\n",
    "                if njk == n[idx]:\n",
    "                    ai = 0.0\n",
    "                else:\n",
    "                    ai = (n[idx + 1] - (n[p] + n[l])) / (n[idx + 1] - n[idx])\n",
    "                results.append((idx, p, l, ai))  # Agregar resultado a la lista\n",
    "\n",
    "    return np.array(results, dtype=object)  # Convertir la lista en un array NumPy\n",
    "\n",
    "# Ejemplo de uso\n",
    "nh = [1, 5, 15, 25, 35, 40, 75, 100]\n",
    "result_matrix = a_fraction(nh)\n",
    "\n",
    "print(result_matrix)\n"
   ]
  },
  {
   "cell_type": "code",
   "execution_count": 27,
   "metadata": {},
   "outputs": [],
   "source": [
    "def b_fraction_prima(result_a):\n",
    "    b = np.copy(result_a)\n",
    "    b[:,3] = 1.0 - b[:, 3]\n",
    "\n",
    "    return b"
   ]
  },
  {
   "cell_type": "code",
   "execution_count": 28,
   "metadata": {},
   "outputs": [
    {
     "data": {
      "text/plain": [
       "array([[0, 0, 0, 0.25],\n",
       "       [1, 0, 1, 0.09999999999999998],\n",
       "       [2, 0, 2, 0.09999999999999998],\n",
       "       [3, 0, 3, 0.09999999999999998],\n",
       "       [4, 0, 4, 0.19999999999999996],\n",
       "       [5, 0, 5, 0.02857142857142858],\n",
       "       [6, 0, 6, 0.040000000000000036],\n",
       "       [1, 1, 1, 0.5],\n",
       "       [2, 1, 2, 0.5],\n",
       "       [3, 1, 3, 0.5],\n",
       "       [5, 1, 4, 1.0],\n",
       "       [5, 1, 5, 0.1428571428571429],\n",
       "       [6, 1, 6, 0.19999999999999996],\n",
       "       [3, 2, 2, 0.5],\n",
       "       [5, 2, 3, 1.0],\n",
       "       [5, 2, 4, 0.2857142857142857],\n",
       "       [5, 2, 5, 0.4285714285714286],\n",
       "       [6, 2, 6, 0.6],\n",
       "       [5, 3, 3, 0.2857142857142857],\n",
       "       [5, 3, 4, 0.5714285714285714],\n",
       "       [5, 3, 5, 0.7142857142857143],\n",
       "       [5, 4, 4, 0.8571428571428572],\n",
       "       [6, 4, 5, 1.0],\n",
       "       [6, 5, 5, 0.19999999999999996]], dtype=object)"
      ]
     },
     "execution_count": 28,
     "metadata": {},
     "output_type": "execute_result"
    }
   ],
   "source": [
    "b_fraction_prima(result_matrix)"
   ]
  },
  {
   "cell_type": "code",
   "execution_count": 55,
   "metadata": {},
   "outputs": [],
   "source": [
    "def b_fraction(a_results):\n",
    "    # Filtrar las filas donde el primer elemento no sea 0\n",
    "    filtered_results = a_results[a_results[:, 0] != 0]\n",
    "\n",
    "    # Crear una copia para aplicar las transformaciones\n",
    "    b = np.copy(filtered_results)\n",
    "\n",
    "    # Incrementar el primer elemento en 1 y modificar el cuarto elemento\n",
    "    b[:, 0] = b[:, 0] + 1  # Incrementar el primer elemento\n",
    "    b[:, 3] = 1.0 - b[:, 3]  # Restar el cuarto elemento de 1.0\n",
    "\n",
    "    return b\n"
   ]
  },
  {
   "cell_type": "code",
   "execution_count": 56,
   "metadata": {},
   "outputs": [
    {
     "data": {
      "text/plain": [
       "array([[2, 0, 1, 0.09999999999999998],\n",
       "       [3, 0, 2, 0.09999999999999998],\n",
       "       [4, 0, 3, 0.09999999999999998],\n",
       "       [5, 0, 4, 0.19999999999999996],\n",
       "       [6, 0, 5, 0.02857142857142858],\n",
       "       [7, 0, 6, 0.040000000000000036],\n",
       "       [2, 1, 1, 0.5],\n",
       "       [3, 1, 2, 0.5],\n",
       "       [4, 1, 3, 0.5],\n",
       "       [6, 1, 4, 1.0],\n",
       "       [6, 1, 5, 0.1428571428571429],\n",
       "       [7, 1, 6, 0.19999999999999996],\n",
       "       [4, 2, 2, 0.5],\n",
       "       [6, 2, 3, 1.0],\n",
       "       [6, 2, 4, 0.2857142857142857],\n",
       "       [6, 2, 5, 0.4285714285714286],\n",
       "       [7, 2, 6, 0.6],\n",
       "       [6, 3, 3, 0.2857142857142857],\n",
       "       [6, 3, 4, 0.5714285714285714],\n",
       "       [6, 3, 5, 0.7142857142857143],\n",
       "       [6, 4, 4, 0.8571428571428572],\n",
       "       [7, 4, 5, 1.0],\n",
       "       [7, 5, 5, 0.19999999999999996]], dtype=object)"
      ]
     },
     "execution_count": 56,
     "metadata": {},
     "output_type": "execute_result"
    }
   ],
   "source": [
    "b_fraction(result_matrix)"
   ]
  },
  {
   "cell_type": "code",
   "execution_count": null,
   "metadata": {},
   "outputs": [],
   "source": []
  }
 ],
 "metadata": {
  "kernelspec": {
   "display_name": "pgf_lib",
   "language": "python",
   "name": "python3"
  },
  "language_info": {
   "codemirror_mode": {
    "name": "ipython",
    "version": 3
   },
   "file_extension": ".py",
   "mimetype": "text/x-python",
   "name": "python",
   "nbconvert_exporter": "python",
   "pygments_lexer": "ipython3",
   "version": "3.10.6"
  }
 },
 "nbformat": 4,
 "nbformat_minor": 2
}
